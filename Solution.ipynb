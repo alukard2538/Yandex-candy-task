{
 "cells": [
  {
   "cell_type": "markdown",
   "metadata": {},
   "source": [
    "Алгоритм таков, на основе списка типов конфет создается словарь {тип : количество конфет данного типа}. И затем находится наибольший общий делитель количества всех типов конфет."
   ]
  },
  {
   "cell_type": "code",
   "execution_count": 1,
   "metadata": {},
   "outputs": [],
   "source": [
    "from math import gcd\n",
    "from functools import reduce\n",
    "def candy_set(lst : list):\n",
    "    if len(lst) == 0:\n",
    "        return 0\n",
    "    types_of_candy = {}\n",
    "    for _type in lst:\n",
    "        types_of_candy[_type] = lst.count(_type)\n",
    "        filter(lambda a: a == _type, lst)    \n",
    "    return reduce(gcd, types_of_candy.values())   "
   ]
  },
  {
   "cell_type": "code",
   "execution_count": 2,
   "metadata": {},
   "outputs": [
    {
     "name": "stdout",
     "output_type": "stream",
     "text": [
      "1\n",
      "0\n",
      "1\n",
      "3\n"
     ]
    }
   ],
   "source": [
    "#Answer = 1\n",
    "print(candy_set(['a', 'b', 'c', 'a', 'b', 'c', 'c']))\n",
    "#Answer = 0\n",
    "print(candy_set([]))\n",
    "#Answer = 1\n",
    "print(candy_set(['a', 'b', 'c', 'a', 'b']))\n",
    "#Answer = 3\n",
    "print(candy_set(['a', 'b', 'a', 'b', 'a', 'b']))"
   ]
  }
 ],
 "metadata": {
  "kernelspec": {
   "display_name": "Python 3",
   "language": "python",
   "name": "python3"
  },
  "language_info": {
   "codemirror_mode": {
    "name": "ipython",
    "version": 3
   },
   "file_extension": ".py",
   "mimetype": "text/x-python",
   "name": "python",
   "nbconvert_exporter": "python",
   "pygments_lexer": "ipython3",
   "version": "3.8.5"
  }
 },
 "nbformat": 4,
 "nbformat_minor": 4
}
